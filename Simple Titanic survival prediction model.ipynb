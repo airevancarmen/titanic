{
 "cells": [
  {
   "cell_type": "markdown",
   "metadata": {},
   "source": [
    "Join the competition: https://www.kaggle.com/c/titanic/data \n",
    "\n",
    "### Let's make our predictions! \n",
    "\n",
 
    "Predictions are about common factors that occur collectively. We don't want to predict if someone is called \"John\" or any other identity property. We want to predict if a middle class, married father in his thirties has a higher chance of surviving than a low class elderly travelling alone. Therefore, we can drop id's and variables that can be inferred by other variables: 'PassengerId', 'Name', 'Ticket', 'Cabin'. However, the 'PassengerId' is not dropped in the test variable because our solution is a file that relates 'PassengerId' with 'Survival'. \n",
    "\n",
    "### Simplicity\n",
    "\n",
    "Let's make a simple and efficient model. We will ignore some extra variable engineering to make the models more accurate. For example, to understand not only the social class but the power that a person had, we can make a variable described by: the 'title' that appears in the 'Name' variable, the fare it paid and/or the port they embarked. \n",
    "\n",
    "### Playing with the Kaggle filters\n",
    "\n",
    "We can start discovering the variables on the dataset by playing with the filters that the Kaggle website provides. \n",
    "\n",
    "Characteristics:\n",
    "- More likely to have survived: Women (Sex=female), children (Age<?), the upper-class passengers (Pclass=1).\n",
    "- Total samples are 891 or 40% of the actual number of passengers on board the Titanic (2,224).\n",
    "- Around 38% samples survived representative of the actual survival rate at 32%.\n",
    "- Most passengers (> 75%) did not travel with parents or children.\n",
    "- Nearly 30% of the passengers had siblings and/or spouse aboard.\n",
    "- Fares varied significantly with few passengers (<1%) paying as high as $512.\n",
    "- Few elderly passengers (<1%) within age range 65-80."
   ]
  },
  {
   "cell_type": "markdown",
   "metadata": {},
   "source": [
    "## Importing tools and data"
   ]
  },
  {
   "cell_type": "code",
   "execution_count": 1,
   "metadata": {},
   "outputs": [],
   "source": [
    "# data analysis and wrangling\n",
    "import pandas as pd\n",
    "import numpy as np\n",
    "import random as rnd\n",
    "\n",
    "# visualization\n",
    "import seaborn as sns\n",
    "import matplotlib.pyplot as plt\n",
    "%matplotlib inline\n",
    "\n",
    "# machine learning\n",
    "from sklearn.linear_model import LogisticRegression\n",
    "from sklearn.svm import SVC, LinearSVC\n",
    "from sklearn.ensemble import RandomForestClassifier\n",
    "from sklearn.neighbors import KNeighborsClassifier\n",
    "from sklearn.naive_bayes import GaussianNB\n",
    "from sklearn.linear_model import Perceptron\n",
    "from sklearn.linear_model import SGDClassifier\n",
    "from sklearn.tree import DecisionTreeClassifier"
   ]
  },
  {
   "cell_type": "code",
   "execution_count": 2,
   "metadata": {},
   "outputs": [],
   "source": [
    "train_df = pd.read_csv('train.csv')\n",
    "test_df = pd.read_csv('test.csv')"
   ]
  },
  {
   "cell_type": "code",
   "execution_count": 3,
   "metadata": {},
   "outputs": [
    {
     "name": "stdout",
     "output_type": "stream",
     "text": [
      "<class 'pandas.core.frame.DataFrame'>\n",
      "RangeIndex: 891 entries, 0 to 890\n",
      "Data columns (total 12 columns):\n",
      "PassengerId    891 non-null int64\n",
      "Survived       891 non-null int64\n",
      "Pclass         891 non-null int64\n",
      "Name           891 non-null object\n",
      "Sex            891 non-null object\n",
      "Age            714 non-null float64\n",
      "SibSp          891 non-null int64\n",
      "Parch          891 non-null int64\n",
      "Ticket         891 non-null object\n",
      "Fare           891 non-null float64\n",
      "Cabin          204 non-null object\n",
      "Embarked       889 non-null object\n",
      "dtypes: float64(2), int64(5), object(5)\n",
      "memory usage: 83.6+ KB\n"
     ]
    }
   ],
   "source": [
    "train_df.describe()\n",
    "#get collumn names  \n",
    "train_df.columns.values\n",
    "train_df.info()"
   ]
  },
  {
   "cell_type": "code",
   "execution_count": 4,
   "metadata": {},
   "outputs": [],
   "source": [
    "train2 = train_df.drop(['PassengerId', 'Name', 'Ticket', 'Cabin', 'Fare', 'Embarked'], axis=1)\n",
    "\n",
    "test2 = test_df.drop(['Name', 'Ticket', 'Cabin', 'Fare', 'Embarked'], axis= 1)\n",
    "\n",
    "df2 = [train2, test2]"
   ]
  },
  {
   "cell_type": "code",
   "execution_count": 5,
   "metadata": {},
   "outputs": [],
   "source": [
    "#Making Sex a binary dummy variable \n",
    "for dataset in df2: \n",
    "      dataset['Sex'] = dataset['Sex'].map( {'female': 1, 'male': 0} ).astype(int)"
   ]
  },
  {
   "cell_type": "code",
   "execution_count": 6,
   "metadata": {},
   "outputs": [],
   "source": [
    "#We need to fill the NaN values for age \n",
    "\n",
    "for dataset in df2: \n",
    "      dataset['Age'] = dataset['Age'].fillna(dataset['Age'].mean())"
   ]
  },
  {
   "cell_type": "code",
   "execution_count": 7,
   "metadata": {},
   "outputs": [],
   "source": [
    "dataset['Age'].isna().sum()\n",
    "\n",
    "for dataset in df2: \n",
    "      dataset['Age'] = dataset['Age'].astype(int)"
   ]
  },
  {
   "cell_type": "code",
   "execution_count": 8,
   "metadata": {},
   "outputs": [
    {
     "name": "stdout",
     "output_type": "stream",
     "text": [
      "<class 'pandas.core.frame.DataFrame'>\n",
      "RangeIndex: 891 entries, 0 to 890\n",
      "Data columns (total 6 columns):\n",
      "Survived    891 non-null int64\n",
      "Pclass      891 non-null int64\n",
      "Sex         891 non-null int32\n",
      "Age         891 non-null int32\n",
      "SibSp       891 non-null int64\n",
      "Parch       891 non-null int64\n",
      "dtypes: int32(2), int64(4)\n",
      "memory usage: 34.9 KB\n"
     ]
    }
   ],
   "source": [
    "#train = train.dropna()\n",
    "\n",
    "train2.isna().sum()\n",
    "train2.info()"
   ]
  },
  {
   "cell_type": "code",
   "execution_count": 9,
   "metadata": {},
   "outputs": [
    {
     "data": {
      "text/plain": [
       "((891, 5), (891,), (418, 5), (418,))"
      ]
     },
     "execution_count": 9,
     "metadata": {},
     "output_type": "execute_result"
    }
   ],
   "source": [
    "#Model variables \n",
    "\n",
    "X_train2 = train2.drop([\"Survived\"], axis=1)\n",
    "Y_train2 = train2['Survived']\n",
    "X_test2  = test2.drop([\"PassengerId\"], axis=1) \n",
    "Y_test2 = test2[\"PassengerId\"]\n",
    "\n",
    "X_train2.shape, Y_train2.shape, X_test2.shape, Y_test2.shape"
   ]
  },
  {
   "cell_type": "code",
   "execution_count": 10,
   "metadata": {},
   "outputs": [
    {
     "name": "stdout",
     "output_type": "stream",
     "text": [
      "<class 'pandas.core.frame.DataFrame'>\n",
      "RangeIndex: 891 entries, 0 to 890\n",
      "Data columns (total 5 columns):\n",
      "Pclass    891 non-null int64\n",
      "Sex       891 non-null int32\n",
      "Age       891 non-null int32\n",
      "SibSp     891 non-null int64\n",
      "Parch     891 non-null int64\n",
      "dtypes: int32(2), int64(3)\n",
      "memory usage: 27.9 KB\n"
     ]
    }
   ],
   "source": [
    "X_train2.info()"
   ]
  },
  {
   "cell_type": "code",
   "execution_count": 11,
   "metadata": {},
   "outputs": [
    {
     "data": {
      "text/plain": [
       "91.58"
      ]
     },
     "execution_count": 11,
     "metadata": {},
     "output_type": "execute_result"
    }
   ],
   "source": [
    "# Decision Tree\n",
    "\n",
    "decision_tree = DecisionTreeClassifier()\n",
    "decision_tree.fit(X_train2, Y_train2)\n",
    "Y_pred = decision_tree.predict(X_test2)\n",
    "acc_decision_tree = round(decision_tree.score(X_train2, Y_train2) * 100, 2)\n",
    "acc_decision_tree"
   ]
  },
  {
   "cell_type": "markdown",
   "metadata": {},
   "source": [
    "## Am I overfitting? \n",
    "Hmmm. How to know? Decision Trees don't handle well NaN. Let's see what happens if instead of filling NaN atributes of Age with the mean value, I will simply delete the NaN rows. If we obtain a higher score, then we could trust that our previous model is not overfitting.\n"
   ]
  },
  {
   "cell_type": "code",
   "execution_count": 12,
   "metadata": {
    "collapsed": true
   },
   "outputs": [
    {
     "data": {
      "text/plain": [
       "[     Survived  Pclass     Sex   Age  SibSp  Parch\n",
       " 0           0       3    male  22.0      1      0\n",
       " 1           1       1  female  38.0      1      0\n",
       " 2           1       3  female  26.0      0      0\n",
       " 3           1       1  female  35.0      1      0\n",
       " 4           0       3    male  35.0      0      0\n",
       " 5           0       3    male   NaN      0      0\n",
       " 6           0       1    male  54.0      0      0\n",
       " 7           0       3    male   2.0      3      1\n",
       " 8           1       3  female  27.0      0      2\n",
       " 9           1       2  female  14.0      1      0\n",
       " 10          1       3  female   4.0      1      1\n",
       " 11          1       1  female  58.0      0      0\n",
       " 12          0       3    male  20.0      0      0\n",
       " 13          0       3    male  39.0      1      5\n",
       " 14          0       3  female  14.0      0      0\n",
       " 15          1       2  female  55.0      0      0\n",
       " 16          0       3    male   2.0      4      1\n",
       " 17          1       2    male   NaN      0      0\n",
       " 18          0       3  female  31.0      1      0\n",
       " 19          1       3  female   NaN      0      0\n",
       " 20          0       2    male  35.0      0      0\n",
       " 21          1       2    male  34.0      0      0\n",
       " 22          1       3  female  15.0      0      0\n",
       " 23          1       1    male  28.0      0      0\n",
       " 24          0       3  female   8.0      3      1\n",
       " 25          1       3  female  38.0      1      5\n",
       " 26          0       3    male   NaN      0      0\n",
       " 27          0       1    male  19.0      3      2\n",
       " 28          1       3  female   NaN      0      0\n",
       " 29          0       3    male   NaN      0      0\n",
       " ..        ...     ...     ...   ...    ...    ...\n",
       " 861         0       2    male  21.0      1      0\n",
       " 862         1       1  female  48.0      0      0\n",
       " 863         0       3  female   NaN      8      2\n",
       " 864         0       2    male  24.0      0      0\n",
       " 865         1       2  female  42.0      0      0\n",
       " 866         1       2  female  27.0      1      0\n",
       " 867         0       1    male  31.0      0      0\n",
       " 868         0       3    male   NaN      0      0\n",
       " 869         1       3    male   4.0      1      1\n",
       " 870         0       3    male  26.0      0      0\n",
       " 871         1       1  female  47.0      1      1\n",
       " 872         0       1    male  33.0      0      0\n",
       " 873         0       3    male  47.0      0      0\n",
       " 874         1       2  female  28.0      1      0\n",
       " 875         1       3  female  15.0      0      0\n",
       " 876         0       3    male  20.0      0      0\n",
       " 877         0       3    male  19.0      0      0\n",
       " 878         0       3    male   NaN      0      0\n",
       " 879         1       1  female  56.0      0      1\n",
       " 880         1       2  female  25.0      0      1\n",
       " 881         0       3    male  33.0      0      0\n",
       " 882         0       3  female  22.0      0      0\n",
       " 883         0       2    male  28.0      0      0\n",
       " 884         0       3    male  25.0      0      0\n",
       " 885         0       3  female  39.0      0      5\n",
       " 886         0       2    male  27.0      0      0\n",
       " 887         1       1  female  19.0      0      0\n",
       " 888         0       3  female   NaN      1      2\n",
       " 889         1       1    male  26.0      0      0\n",
       " 890         0       3    male  32.0      0      0\n",
       " \n",
       " [891 rows x 6 columns],      PassengerId  Pclass     Sex   Age  SibSp  Parch\n",
       " 0            892       3    male  34.5      0      0\n",
       " 1            893       3  female  47.0      1      0\n",
       " 2            894       2    male  62.0      0      0\n",
       " 3            895       3    male  27.0      0      0\n",
       " 4            896       3  female  22.0      1      1\n",
       " 5            897       3    male  14.0      0      0\n",
       " 6            898       3  female  30.0      0      0\n",
       " 7            899       2    male  26.0      1      1\n",
       " 8            900       3  female  18.0      0      0\n",
       " 9            901       3    male  21.0      2      0\n",
       " 10           902       3    male   NaN      0      0\n",
       " 11           903       1    male  46.0      0      0\n",
       " 12           904       1  female  23.0      1      0\n",
       " 13           905       2    male  63.0      1      0\n",
       " 14           906       1  female  47.0      1      0\n",
       " 15           907       2  female  24.0      1      0\n",
       " 16           908       2    male  35.0      0      0\n",
       " 17           909       3    male  21.0      0      0\n",
       " 18           910       3  female  27.0      1      0\n",
       " 19           911       3  female  45.0      0      0\n",
       " 20           912       1    male  55.0      1      0\n",
       " 21           913       3    male   9.0      0      1\n",
       " 22           914       1  female   NaN      0      0\n",
       " 23           915       1    male  21.0      0      1\n",
       " 24           916       1  female  48.0      1      3\n",
       " 25           917       3    male  50.0      1      0\n",
       " 26           918       1  female  22.0      0      1\n",
       " 27           919       3    male  22.5      0      0\n",
       " 28           920       1    male  41.0      0      0\n",
       " 29           921       3    male   NaN      2      0\n",
       " ..           ...     ...     ...   ...    ...    ...\n",
       " 388         1280       3    male  21.0      0      0\n",
       " 389         1281       3    male   6.0      3      1\n",
       " 390         1282       1    male  23.0      0      0\n",
       " 391         1283       1  female  51.0      0      1\n",
       " 392         1284       3    male  13.0      0      2\n",
       " 393         1285       2    male  47.0      0      0\n",
       " 394         1286       3    male  29.0      3      1\n",
       " 395         1287       1  female  18.0      1      0\n",
       " 396         1288       3    male  24.0      0      0\n",
       " 397         1289       1  female  48.0      1      1\n",
       " 398         1290       3    male  22.0      0      0\n",
       " 399         1291       3    male  31.0      0      0\n",
       " 400         1292       1  female  30.0      0      0\n",
       " 401         1293       2    male  38.0      1      0\n",
       " 402         1294       1  female  22.0      0      1\n",
       " 403         1295       1    male  17.0      0      0\n",
       " 404         1296       1    male  43.0      1      0\n",
       " 405         1297       2    male  20.0      0      0\n",
       " 406         1298       2    male  23.0      1      0\n",
       " 407         1299       1    male  50.0      1      1\n",
       " 408         1300       3  female   NaN      0      0\n",
       " 409         1301       3  female   3.0      1      1\n",
       " 410         1302       3  female   NaN      0      0\n",
       " 411         1303       1  female  37.0      1      0\n",
       " 412         1304       3  female  28.0      0      0\n",
       " 413         1305       3    male   NaN      0      0\n",
       " 414         1306       1  female  39.0      0      0\n",
       " 415         1307       3    male  38.5      0      0\n",
       " 416         1308       3    male   NaN      0      0\n",
       " 417         1309       3    male   NaN      1      1\n",
       " \n",
       " [418 rows x 6 columns]]"
      ]
     },
     "execution_count": 12,
     "metadata": {},
     "output_type": "execute_result"
    }
   ],
   "source": [
    "train3 = train_df.drop(['PassengerId', 'Name', 'Ticket', 'Cabin', 'Fare', 'Embarked'], axis=1)\n",
    "\n",
    "test3 = test_df.drop(['Name', 'Ticket', 'Cabin', 'Fare', 'Embarked'], axis= 1)\n",
    "\n",
    "df3 = [train3, test3]\n",
    "\n",
    "df3"
   ]
  },
  {
   "cell_type": "code",
   "execution_count": 13,
   "metadata": {},
   "outputs": [],
   "source": [
    "#Making Sex a binary dummy variable \n",
    "for dataset in df3: \n",
    "      dataset['Sex'] = dataset['Sex'].map( {'female': 1, 'male': 0} ).astype(int)"
   ]
  },
  {
   "cell_type": "code",
   "execution_count": 14,
   "metadata": {
    "collapsed": true
   },
   "outputs": [
    {
     "data": {
      "text/plain": [
       "Survived    0\n",
       "Pclass      0\n",
       "Sex         0\n",
       "Age         0\n",
       "SibSp       0\n",
       "Parch       0\n",
       "dtype: int64"
      ]
     },
     "execution_count": 14,
     "metadata": {},
     "output_type": "execute_result"
    }
   ],
   "source": [
    "train3 = train3.dropna()\n",
    "    \n",
    "train3.isna().sum()"
   ]
  },
  {
   "cell_type": "code",
   "execution_count": 15,
   "metadata": {},
   "outputs": [],
   "source": [
    "for dataset in df3: \n",
    "      dataset = dataset.dropna(axis = 0, how = 'any')       "
   ]
  },
  {
   "cell_type": "code",
   "execution_count": 16,
   "metadata": {
    "collapsed": true
   },
   "outputs": [
    {
     "data": {
      "text/plain": [
       "PassengerId    0\n",
       "Pclass         0\n",
       "Sex            0\n",
       "Age            0\n",
       "SibSp          0\n",
       "Parch          0\n",
       "dtype: int64"
      ]
     },
     "execution_count": 16,
     "metadata": {},
     "output_type": "execute_result"
    }
   ],
   "source": [
    "test3 = test3.dropna()\n",
    "    \n",
    "test3.isna().sum()"
   ]
  },
  {
   "cell_type": "code",
   "execution_count": 17,
   "metadata": {},
   "outputs": [
    {
     "data": {
      "text/plain": [
       "((714, 5), (714,), (332, 5), (332,))"
      ]
     },
     "execution_count": 17,
     "metadata": {},
     "output_type": "execute_result"
    }
   ],
   "source": [
    "#Model variables \n",
    "\n",
    "X_train3 = train3.drop([\"Survived\"], axis=1)\n",
    "Y_train3 = train3['Survived']\n",
    "X_test3  = test3.drop([\"PassengerId\"], axis=1) \n",
    "Y_test3 = test3[\"PassengerId\"]\n",
    "\n",
    "X_train3.shape, Y_train3.shape, X_test3.shape, Y_test3.shape"
   ]
  },
  {
   "cell_type": "code",
   "execution_count": 18,
   "metadata": {},
   "outputs": [
    {
     "data": {
      "text/plain": [
       "93.28"
      ]
     },
     "execution_count": 18,
     "metadata": {},
     "output_type": "execute_result"
    }
   ],
   "source": [
    "# Decision Tree\n",
    "\n",
    "decision_tree = DecisionTreeClassifier()\n",
    "decision_tree.fit(X_train3, Y_train3)\n",
    "Y_pred1 = decision_tree.predict(X_test3)\n",
    "acc_decision_tree1 = round(decision_tree.score(X_train3, Y_train3) * 100, 2)\n",
    "acc_decision_tree1"
   ]
  },
  {
   "cell_type": "markdown",
   "metadata": {},
   "source": [
    "## Submission \n",
    "\n",
    "We will submit the asked dataframe with 418 entries plus a header row. "
   ]
  },
  {
   "cell_type": "code",
   "execution_count": 21,
   "metadata": {},
   "outputs": [],
   "source": [
    "submission = pd.DataFrame({\n",
    "        \"PassengerId\": test2[\"PassengerId\"],\n",
    "        \"Survived\": Y_pred\n",
    "    })\n",
    "\n",
    "\n",
    "#submission"
   ]
  },
  {
   "cell_type": "code",
   "execution_count": 22,
   "metadata": {},
   "outputs": [],
   "source": [
    "submission.to_csv('submission.csv', index=False)"
   ]
  }
 ],
 "metadata": {
  "kernelspec": {
   "display_name": "Python 3",
   "language": "python",
   "name": "python3"
  },
  "language_info": {
   "codemirror_mode": {
    "name": "ipython",
    "version": 3
   },
   "file_extension": ".py",
   "mimetype": "text/x-python",
   "name": "python",
   "nbconvert_exporter": "python",
   "pygments_lexer": "ipython3",
   "version": "3.6.5"
  }
 },
 "nbformat": 4,
 "nbformat_minor": 2
}
